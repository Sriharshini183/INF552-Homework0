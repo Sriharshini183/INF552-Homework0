{
 "cells": [
  {
   "cell_type": "code",
   "execution_count": null,
   "metadata": {},
   "outputs": [],
   "source": [
    "<center><h1>INF-552 Lab 0</h1></center>\n",
    "<br>\n",
    "<center><font size=\"4\">Introduction to Basic Development Tools</font></center>"
   ]
  },
  {
   "cell_type": "markdown",
   "metadata": {},
   "source": [
    "### Rules"
   ]
  },
  {
   "cell_type": "markdown",
   "metadata": {},
   "source": [
    "1. Please read the instructions and problem prompts **carefully**.\n",
    "2. This lab is to give you some basic APIs of numpy, pandas and scikit-learn. Besides, some topics such as how to make your jupyter notebook be a more efficient developing tools, how to use git and GitHub will also be covered. The lab is to be done individually. You may talk to your fellow classmates about general issues (\"Remind me again: Which API should I used for doing group by operation to a data set\") but about the specifies of how to do these exercises.\n",
    "3. Along with a similar vein, you can ask the TA for help, but ask questions about **concepts** but not ask the TA to help you debug your code. The TA is here to help, but not to do the work for you.\n",
    "4. You are welcome to use the class resources and the Internet.\n",
    "5. Playing with variations. Solve one problems, and then copy the code to a new cell and play around with it. Doing this is the single most important thing when learning programming.\n",
    "6. This lab will not be graded but the content is highly related to your future programming assignments. So, treat it wisely.\n",
    "7. All the content having been gone though in the week 1 discussion is just a snapshot of the most basic concepts. **You need to keep study more about Git, GitHub, Pandas, Numpy and Scikit-Learn in order to finish your programming assignments successfully.**\n",
    "8. Have fun!"
   ]
  },
  {
   "cell_type": "markdown",
   "metadata": {},
   "source": [
    "### Setup Development Environment"
   ]
  },
  {
   "cell_type": "markdown",
   "metadata": {},
   "source": [
    "There are many ways to setup the environment. But, I do recommend a simple idea that is using the Anaconda, which is a pre-build python environment with bundles of useful packages.\n",
    "\n",
    "**To download the Anaconda, go to the following website:\n",
    "https://www.anaconda.com/distribution/**. Download the correct version based on your operating system and install it step by step.\n",
    "\n",
    "Then, **configure your PATH environment variable** to make the conda command work. The following command is an easy way to test whether your configuration is correct. If it is, you will see something as like as the sample output.\n",
    "\n",
    "> **command:**\n",
    ">\n",
    "> conda --version\n",
    ">\n",
    "> **sample output:**\n",
    ">\n",
    "> conda 4.6.12\n",
    "\n",
    "**Finally, download this jupyter notebook file,** then change the working directory to where its location in terminal, and type the following command to open the jupter notebook and finish the lab.\n",
    "\n",
    "> **command:** \n",
    "> jupyter notebook"
   ]
  },
  {
   "cell_type": "code",
   "execution_count": 288,
   "metadata": {
    "ExecuteTime": {
     "end_time": "2020-01-14T19:44:42.243800Z",
     "start_time": "2020-01-14T19:44:41.609555Z"
    }
   },
   "outputs": [],
   "source": [
    "import pandas as pd\n",
    "import numpy as np"
   ]
  },
  {
   "cell_type": "markdown",
   "metadata": {},
   "source": [
    "### Pandas"
   ]
  },
  {
   "cell_type": "markdown",
   "metadata": {},
   "source": [
    "#### The read_csv() Method"
   ]
  },
  {
   "cell_type": "markdown",
   "metadata": {},
   "source": [
    "First, read the documentation about the *read_csv()* method in Pandas (https://pandas.pydata.org/pandas-docs/stable/reference/api/pandas.read_csv.html). Then, try to read data from file Salaries.csv to a dataframe, make the column playerID in the csv file as the index column and the first row as the header. Also, skip the second row when reading the file."
   ]
  },
  {
   "cell_type": "code",
   "execution_count": 289,
   "metadata": {
    "ExecuteTime": {
     "end_time": "2019-08-28T03:51:17.953542Z",
     "start_time": "2019-08-28T03:51:17.937799Z"
    }
   },
   "outputs": [
    {
     "data": {
      "text/html": [
       "<div>\n",
       "<style scoped>\n",
       "    .dataframe tbody tr th:only-of-type {\n",
       "        vertical-align: middle;\n",
       "    }\n",
       "\n",
       "    .dataframe tbody tr th {\n",
       "        vertical-align: top;\n",
       "    }\n",
       "\n",
       "    .dataframe thead th {\n",
       "        text-align: right;\n",
       "    }\n",
       "</style>\n",
       "<table border=\"1\" class=\"dataframe\">\n",
       "  <thead>\n",
       "    <tr style=\"text-align: right;\">\n",
       "      <th></th>\n",
       "      <th>yearID</th>\n",
       "      <th>teamID</th>\n",
       "      <th>lgID</th>\n",
       "      <th>salary</th>\n",
       "    </tr>\n",
       "    <tr>\n",
       "      <th>playerID</th>\n",
       "      <th></th>\n",
       "      <th></th>\n",
       "      <th></th>\n",
       "      <th></th>\n",
       "    </tr>\n",
       "  </thead>\n",
       "  <tbody>\n",
       "    <tr>\n",
       "      <th>barkele01</th>\n",
       "      <td>1985</td>\n",
       "      <td>ATL</td>\n",
       "      <td>NL</td>\n",
       "      <td>870000</td>\n",
       "    </tr>\n",
       "    <tr>\n",
       "      <th>benedbr01</th>\n",
       "      <td>1985</td>\n",
       "      <td>ATL</td>\n",
       "      <td>NL</td>\n",
       "      <td>545000</td>\n",
       "    </tr>\n",
       "    <tr>\n",
       "      <th>campri01</th>\n",
       "      <td>1985</td>\n",
       "      <td>ATL</td>\n",
       "      <td>NL</td>\n",
       "      <td>633333</td>\n",
       "    </tr>\n",
       "    <tr>\n",
       "      <th>ceronri01</th>\n",
       "      <td>1985</td>\n",
       "      <td>ATL</td>\n",
       "      <td>NL</td>\n",
       "      <td>625000</td>\n",
       "    </tr>\n",
       "    <tr>\n",
       "      <th>chambch01</th>\n",
       "      <td>1985</td>\n",
       "      <td>ATL</td>\n",
       "      <td>NL</td>\n",
       "      <td>800000</td>\n",
       "    </tr>\n",
       "    <tr>\n",
       "      <th>...</th>\n",
       "      <td>...</td>\n",
       "      <td>...</td>\n",
       "      <td>...</td>\n",
       "      <td>...</td>\n",
       "    </tr>\n",
       "    <tr>\n",
       "      <th>treinbl01</th>\n",
       "      <td>2015</td>\n",
       "      <td>WAS</td>\n",
       "      <td>NL</td>\n",
       "      <td>512800</td>\n",
       "    </tr>\n",
       "    <tr>\n",
       "      <th>ugglada01</th>\n",
       "      <td>2015</td>\n",
       "      <td>WAS</td>\n",
       "      <td>NL</td>\n",
       "      <td>507500</td>\n",
       "    </tr>\n",
       "    <tr>\n",
       "      <th>werthja01</th>\n",
       "      <td>2015</td>\n",
       "      <td>WAS</td>\n",
       "      <td>NL</td>\n",
       "      <td>21000000</td>\n",
       "    </tr>\n",
       "    <tr>\n",
       "      <th>zimmejo02</th>\n",
       "      <td>2015</td>\n",
       "      <td>WAS</td>\n",
       "      <td>NL</td>\n",
       "      <td>16500000</td>\n",
       "    </tr>\n",
       "    <tr>\n",
       "      <th>zimmery01</th>\n",
       "      <td>2015</td>\n",
       "      <td>WAS</td>\n",
       "      <td>NL</td>\n",
       "      <td>14000000</td>\n",
       "    </tr>\n",
       "  </tbody>\n",
       "</table>\n",
       "<p>25574 rows × 4 columns</p>\n",
       "</div>"
      ],
      "text/plain": [
       "           yearID teamID lgID    salary\n",
       "playerID                               \n",
       "barkele01    1985    ATL   NL    870000\n",
       "benedbr01    1985    ATL   NL    545000\n",
       "campri01     1985    ATL   NL    633333\n",
       "ceronri01    1985    ATL   NL    625000\n",
       "chambch01    1985    ATL   NL    800000\n",
       "...           ...    ...  ...       ...\n",
       "treinbl01    2015    WAS   NL    512800\n",
       "ugglada01    2015    WAS   NL    507500\n",
       "werthja01    2015    WAS   NL  21000000\n",
       "zimmejo02    2015    WAS   NL  16500000\n",
       "zimmery01    2015    WAS   NL  14000000\n",
       "\n",
       "[25574 rows x 4 columns]"
      ]
     },
     "execution_count": 289,
     "metadata": {},
     "output_type": "execute_result"
    }
   ],
   "source": [
    "df = pd.read_csv('Salaries.csv', header=0, index_col=\"playerID\", skiprows=[2])\n",
    "df"
   ]
  },
  {
   "cell_type": "markdown",
   "metadata": {},
   "source": [
    "#### Indexing and Selecting Data"
   ]
  },
  {
   "cell_type": "markdown",
   "metadata": {},
   "source": [
    "Select the id of the players who are registered in ATL and HOU and whose salary is higher than one million."
   ]
  },
  {
   "cell_type": "code",
   "execution_count": 290,
   "metadata": {
    "ExecuteTime": {
     "end_time": "2019-08-28T03:51:24.015061Z",
     "start_time": "2019-08-28T03:51:23.982621Z"
    }
   },
   "outputs": [
    {
     "data": {
      "text/plain": [
       "['hornebo01',\n",
       " 'murphda05',\n",
       " 'suttebr01',\n",
       " 'ryanno01',\n",
       " 'hornebo01',\n",
       " 'murphda05',\n",
       " 'suttebr01',\n",
       " 'ryanno01',\n",
       " 'griffke01',\n",
       " 'murphda05',\n",
       " 'suttebr01',\n",
       " 'ryanno01',\n",
       " 'murphda05',\n",
       " 'suttebr01',\n",
       " 'smithda02',\n",
       " 'murphda05',\n",
       " 'suttebr01',\n",
       " 'clancji01',\n",
       " 'davisgl01',\n",
       " 'ramirra01',\n",
       " 'scottmi03',\n",
       " 'smithda02',\n",
       " 'esaskni01',\n",
       " 'murphda05',\n",
       " 'smithlo01',\n",
       " 'suttebr01',\n",
       " 'whitter01',\n",
       " 'clancji01',\n",
       " 'darwida01',\n",
       " 'davisgl01',\n",
       " 'deshaji01',\n",
       " 'scottmi03',\n",
       " 'smithda02',\n",
       " 'breamsi01',\n",
       " 'esaskni01',\n",
       " 'gantro01',\n",
       " 'leibrch01',\n",
       " 'pendlte01',\n",
       " 'smithlo01',\n",
       " 'caminke01',\n",
       " 'deshaji01',\n",
       " 'ramirra01',\n",
       " 'scottmi03',\n",
       " 'berenju01',\n",
       " 'bielemi01',\n",
       " 'breamsi01',\n",
       " 'esaskni01',\n",
       " 'gantro01',\n",
       " 'glavito02',\n",
       " 'leibrch01',\n",
       " 'nixonot01',\n",
       " 'penaal01',\n",
       " 'pendlte01',\n",
       " 'smithlo01',\n",
       " 'smoltjo01',\n",
       " 'treadje01',\n",
       " 'biggicr01',\n",
       " 'caminke01',\n",
       " 'finlest01',\n",
       " 'jonesdo01',\n",
       " 'portuma01',\n",
       " 'blausje01',\n",
       " 'breamsi01',\n",
       " 'gantro01',\n",
       " 'glavito02',\n",
       " 'justida01',\n",
       " 'maddugr01',\n",
       " 'nixonot01',\n",
       " 'pendlte01',\n",
       " 'sandede02',\n",
       " 'smithpe02',\n",
       " 'smoltjo01',\n",
       " 'biggicr01',\n",
       " 'caminke01',\n",
       " 'drabedo01',\n",
       " 'finlest01',\n",
       " 'harnipe01',\n",
       " 'jonesdo01',\n",
       " 'portuma01',\n",
       " 'swindgr01',\n",
       " 'averyst01',\n",
       " 'blausje01',\n",
       " 'gantro01',\n",
       " 'glavito02',\n",
       " 'justida01',\n",
       " 'lemkema01',\n",
       " 'maddugr01',\n",
       " 'mcgrifr01',\n",
       " 'merckke01',\n",
       " 'olsongr01',\n",
       " 'pendlte01',\n",
       " 'sandede02',\n",
       " 'smoltjo01',\n",
       " 'stantmi02',\n",
       " 'bagweje01',\n",
       " 'biggicr01',\n",
       " 'caminke01',\n",
       " 'drabedo01',\n",
       " 'finlest01',\n",
       " 'gonzalu01',\n",
       " 'harnipe01',\n",
       " 'swindgr01',\n",
       " 'willimi02',\n",
       " 'averyst01',\n",
       " 'blausje01',\n",
       " 'glavito02',\n",
       " 'grissma02',\n",
       " 'justida01',\n",
       " 'lemkema01',\n",
       " 'maddugr01',\n",
       " 'mcgrifr01',\n",
       " 'merckke01',\n",
       " 'smoltjo01',\n",
       " 'stantmi02',\n",
       " 'bagweje01',\n",
       " 'bellde01',\n",
       " 'biggicr01',\n",
       " 'drabedo01',\n",
       " 'gonzalu01',\n",
       " 'kileda01',\n",
       " 'plantph01',\n",
       " 'swindgr01',\n",
       " 'wilkiri01',\n",
       " 'averyst01',\n",
       " 'blausje01',\n",
       " 'glavito02',\n",
       " 'grissma02',\n",
       " 'justida01',\n",
       " 'lemkema01',\n",
       " 'maddugr01',\n",
       " 'mcgrifr01',\n",
       " 'smoltjo01',\n",
       " 'wohlema01',\n",
       " 'bagweje01',\n",
       " 'bellde01',\n",
       " 'biggicr01',\n",
       " 'drabedo01',\n",
       " 'kileda01',\n",
       " 'swindgr01',\n",
       " 'wilkiri01',\n",
       " 'blausje01',\n",
       " 'glavito02',\n",
       " 'jonesch06',\n",
       " 'kleskry01',\n",
       " 'lemkema01',\n",
       " 'loftoke01',\n",
       " 'lopezja01',\n",
       " 'maddugr01',\n",
       " 'mcgrifr01',\n",
       " 'neaglde01',\n",
       " 'smoltjo01',\n",
       " 'wohlema01',\n",
       " 'ausmubr01',\n",
       " 'bagweje01',\n",
       " 'bellde01',\n",
       " 'berryse01',\n",
       " 'biggicr01',\n",
       " 'gonzalu01',\n",
       " 'hamptmi01',\n",
       " 'kileda01',\n",
       " 'reynosh01',\n",
       " 'galaran01',\n",
       " 'glavito02',\n",
       " 'jonesch06',\n",
       " 'kleskry01',\n",
       " 'lopezja01',\n",
       " 'maddugr01',\n",
       " 'neaglde01',\n",
       " 'smoltjo01',\n",
       " 'weisswa01',\n",
       " 'willige02',\n",
       " 'wohlema01',\n",
       " 'aloumo01',\n",
       " 'ausmubr01',\n",
       " 'bagweje01',\n",
       " 'bellde01',\n",
       " 'biggicr01',\n",
       " 'evereca01',\n",
       " 'hamptmi01',\n",
       " 'reynosh01',\n",
       " 'spierbi01',\n",
       " 'boonebr01',\n",
       " 'galaran01',\n",
       " 'glavito02',\n",
       " 'jonesch06',\n",
       " 'jordabr01',\n",
       " 'kleskry01',\n",
       " 'lopezja01',\n",
       " 'maddugr01',\n",
       " 'nixonot01',\n",
       " 'remlimi01',\n",
       " 'smoltjo01',\n",
       " 'weisswa01',\n",
       " 'willige02',\n",
       " 'wohlema01',\n",
       " 'aloumo01',\n",
       " 'bagweje01',\n",
       " 'bellde01',\n",
       " 'bergmse01',\n",
       " 'biggicr01',\n",
       " 'caminke01',\n",
       " 'evereca01',\n",
       " 'gutieri01',\n",
       " 'hamptmi01',\n",
       " 'limajo01',\n",
       " 'reynosh01',\n",
       " 'spierbi01',\n",
       " 'wagnebi02',\n",
       " 'galaran01',\n",
       " 'glavito02',\n",
       " 'jonesan01',\n",
       " 'jonesch06',\n",
       " 'jordabr01',\n",
       " 'joynewa01',\n",
       " 'lopezja01',\n",
       " 'maddugr01',\n",
       " 'mulhote01',\n",
       " 'remlimi01',\n",
       " 'sandere02',\n",
       " 'seaneru01',\n",
       " 'smoltjo01',\n",
       " 'verasqu01',\n",
       " 'weisswa01',\n",
       " 'aloumo01',\n",
       " 'bagweje01',\n",
       " 'biggicr01',\n",
       " 'caminke01',\n",
       " 'cedenro01',\n",
       " 'eusebto01',\n",
       " 'holtch01',\n",
       " 'limajo01',\n",
       " 'powelja04',\n",
       " 'reynosh01',\n",
       " 'spierbi01',\n",
       " 'wagnebi02',\n",
       " 'brognri01',\n",
       " 'burkejo03',\n",
       " 'glavito02',\n",
       " 'jonesan01',\n",
       " 'jonesch06',\n",
       " 'jordabr01',\n",
       " 'ligteke01',\n",
       " 'lopezja01',\n",
       " 'maddugr01',\n",
       " 'martida01',\n",
       " 'millwke01',\n",
       " 'remlimi01',\n",
       " 'rockejo01',\n",
       " 'smoltjo01',\n",
       " 'surhobj01',\n",
       " 'verasqu01',\n",
       " 'aloumo01',\n",
       " 'ausmubr01',\n",
       " 'bagweje01',\n",
       " 'biggicr01',\n",
       " 'botteke01',\n",
       " 'brocado01',\n",
       " 'eusebto01',\n",
       " 'hidalri01',\n",
       " 'limajo01',\n",
       " 'powelja04',\n",
       " 'reynosh01',\n",
       " 'spierbi01',\n",
       " 'vizcajo01',\n",
       " 'wagnebi02',\n",
       " 'blanche01',\n",
       " 'castivi02',\n",
       " 'glavito02',\n",
       " 'jonesan01',\n",
       " 'jonesch06',\n",
       " 'ligteke01',\n",
       " 'lopezal02',\n",
       " 'lopezja01',\n",
       " 'maddugr01',\n",
       " 'martida01',\n",
       " 'millwke01',\n",
       " 'remlimi01',\n",
       " 'sheffga01',\n",
       " 'smoltjo01',\n",
       " 'surhobj01',\n",
       " 'ausmubr01',\n",
       " 'bagweje01',\n",
       " 'biggicr01',\n",
       " 'hidalri01',\n",
       " 'merceor01',\n",
       " 'mlickda01',\n",
       " 'reynosh01',\n",
       " 'vizcajo01',\n",
       " 'wagnebi02',\n",
       " 'zaungr01',\n",
       " 'blanche01',\n",
       " 'byrdpa01',\n",
       " 'castivi02',\n",
       " 'furcara01',\n",
       " 'hamptmi01',\n",
       " 'jonesan01',\n",
       " 'jonesch06',\n",
       " 'lopezja01',\n",
       " 'maddugr01',\n",
       " 'ortizru01',\n",
       " 'sheffga01',\n",
       " 'smoltjo01',\n",
       " 'ausmubr01',\n",
       " 'bagweje01',\n",
       " 'berkmla01',\n",
       " 'biggicr01',\n",
       " 'blumge01',\n",
       " 'doteloc01',\n",
       " 'hidalri01',\n",
       " 'huntebr02',\n",
       " 'kentje01',\n",
       " 'lugoju01',\n",
       " 'merceor01',\n",
       " 'vizcajo01',\n",
       " 'wagnebi02',\n",
       " 'zaungr01',\n",
       " 'alfonan01',\n",
       " 'byrdpa01',\n",
       " 'drewjd01',\n",
       " 'furcara01',\n",
       " 'hamptmi01',\n",
       " 'jonesan01',\n",
       " 'jonesch06',\n",
       " 'marreel01',\n",
       " 'ortizru01',\n",
       " 'smoltjo01',\n",
       " 'thomsjo01',\n",
       " 'bagweje01',\n",
       " 'berkmla01',\n",
       " 'biggicr01',\n",
       " 'clemero02',\n",
       " 'doteloc01',\n",
       " 'hidalri01',\n",
       " 'kentje01',\n",
       " 'millewa04',\n",
       " 'oswalro01',\n",
       " 'pettian01',\n",
       " 'vizcajo01',\n",
       " 'furcara01',\n",
       " 'gilesma01',\n",
       " 'hamptmi01',\n",
       " 'hudsoti01',\n",
       " 'jonesan01',\n",
       " 'jonesch06',\n",
       " 'kolbda01',\n",
       " 'martito02',\n",
       " 'reitsch01',\n",
       " 'smoltjo01',\n",
       " 'thomsjo01',\n",
       " 'ausmubr01',\n",
       " 'bagweje01',\n",
       " 'berkmla01',\n",
       " 'biggicr01',\n",
       " 'clemero02',\n",
       " 'lambmi01',\n",
       " 'oswalro01',\n",
       " 'pettian01',\n",
       " 'vizcajo01',\n",
       " 'gilesma01',\n",
       " 'hamptmi01',\n",
       " 'hudsoti01',\n",
       " 'jonesan01',\n",
       " 'jonesch06',\n",
       " 'ramirho01',\n",
       " 'reitsch01',\n",
       " 'renteed01',\n",
       " 'smoltjo01',\n",
       " 'sosajo02',\n",
       " 'thomsjo01',\n",
       " 'bagweje01',\n",
       " 'berkmla01',\n",
       " 'biggicr01',\n",
       " 'ensbemo01',\n",
       " 'everead01',\n",
       " 'lambmi01',\n",
       " 'lidgebr01',\n",
       " 'milletr02',\n",
       " 'oswalro01',\n",
       " 'pettian01',\n",
       " 'wilsopr01',\n",
       " 'gonzami02',\n",
       " 'hamptmi01',\n",
       " 'hudsoti01',\n",
       " 'jonesan01',\n",
       " 'jonesch06',\n",
       " 'renteed01',\n",
       " 'smoltjo01',\n",
       " 'soriara01',\n",
       " 'wickmbo01',\n",
       " 'wilsocr03',\n",
       " 'ausmubr01',\n",
       " 'berkmla01',\n",
       " 'biggicr01',\n",
       " 'ensbemo01',\n",
       " 'everead01',\n",
       " 'jennija01',\n",
       " 'lambmi01',\n",
       " 'laneja01',\n",
       " 'leeca01',\n",
       " 'lidgebr01',\n",
       " 'loretma01',\n",
       " 'milletr02',\n",
       " 'oswalro01',\n",
       " 'wheelda01',\n",
       " 'williwo02',\n",
       " 'diazma02',\n",
       " 'glavito02',\n",
       " 'gonzami02',\n",
       " 'hamptmi01',\n",
       " 'hudsoti01',\n",
       " 'infanom01',\n",
       " 'jonesch06',\n",
       " 'kotsama01',\n",
       " 'ohmanwi01',\n",
       " 'smoltjo01',\n",
       " 'soriara01',\n",
       " 'teixema01',\n",
       " 'ausmubr01',\n",
       " 'berkmla01',\n",
       " 'blumge01',\n",
       " 'brocado01',\n",
       " 'chacosh01',\n",
       " 'gearyge01',\n",
       " 'leeca01',\n",
       " 'loretma01',\n",
       " 'matsuka01',\n",
       " 'oswalro01',\n",
       " 'tejadmi01',\n",
       " 'valvejo01',\n",
       " 'villaos01',\n",
       " 'wiggity01',\n",
       " 'anderga01',\n",
       " 'diazma02',\n",
       " 'francje02',\n",
       " 'gonzami02',\n",
       " 'hudsoti01',\n",
       " 'infanom01',\n",
       " 'johnske05',\n",
       " 'jonesch06',\n",
       " 'kawakke01',\n",
       " 'kotchca01',\n",
       " 'lowede01',\n",
       " 'mccanbr01',\n",
       " 'rossda01',\n",
       " 'soriara01',\n",
       " 'vazquja01',\n",
       " 'backebr01',\n",
       " 'berkmla01',\n",
       " 'blumge01',\n",
       " 'brocado01',\n",
       " 'erstada01',\n",
       " 'gearyge01',\n",
       " 'hamptmi01',\n",
       " 'hawkila01',\n",
       " 'leeca01',\n",
       " 'matsuka01',\n",
       " 'moehlbr01',\n",
       " 'oswalro01',\n",
       " 'rodriiv01',\n",
       " 'rodriwa01',\n",
       " 'tejadmi01',\n",
       " 'valvejo01',\n",
       " 'cabreme01',\n",
       " 'diazma02',\n",
       " 'glaustr01',\n",
       " 'hudsoti01',\n",
       " 'infanom01',\n",
       " 'jonesch06',\n",
       " 'kawakke01',\n",
       " 'lowede01',\n",
       " 'mccanbr01',\n",
       " 'mclouna01',\n",
       " 'moylape01',\n",
       " 'rossda01',\n",
       " 'saitota01',\n",
       " 'wagnebi02',\n",
       " 'berkmla01',\n",
       " 'blumge01',\n",
       " 'bournmi01',\n",
       " 'byrdati01',\n",
       " 'felizpe01',\n",
       " 'keppije01',\n",
       " 'leeca01',\n",
       " 'lindsma01',\n",
       " 'lyonbr01',\n",
       " 'matsuka01',\n",
       " 'moehlbr01',\n",
       " 'myersbr01',\n",
       " 'oswalro01',\n",
       " 'pencehu01',\n",
       " 'rodriwa01',\n",
       " 'gonzaal02',\n",
       " 'hinsker01',\n",
       " 'hudsoti01',\n",
       " 'jonesch06',\n",
       " 'jurrjja01',\n",
       " 'linebsc01',\n",
       " 'lowede01',\n",
       " 'mccanbr01',\n",
       " 'mclouna01',\n",
       " 'moylape01',\n",
       " 'pradoma01',\n",
       " 'rossda01',\n",
       " 'sherrge01',\n",
       " 'ugglada01',\n",
       " 'barmecl01',\n",
       " 'bournmi01',\n",
       " 'hallbi03',\n",
       " 'keppije01',\n",
       " 'leeca01',\n",
       " 'lyonbr01',\n",
       " 'myersbr01',\n",
       " 'pencehu01',\n",
       " 'rodriwa01',\n",
       " 'bournmi01',\n",
       " 'diazma02',\n",
       " 'hinsker01',\n",
       " 'hudsoti01',\n",
       " 'jonesch06',\n",
       " 'jurrjja01',\n",
       " 'mccanbr01',\n",
       " 'oflaher01',\n",
       " 'pradoma01',\n",
       " 'rossda01',\n",
       " 'ugglada01',\n",
       " 'happja01',\n",
       " 'leeca01',\n",
       " 'lowrije01',\n",
       " 'lyonbr01',\n",
       " 'myersbr01',\n",
       " 'rodriwa01',\n",
       " 'heywaja01',\n",
       " 'hudsoti01',\n",
       " 'johnsch05',\n",
       " 'johnsre02',\n",
       " 'lairdge01',\n",
       " 'maholpa01',\n",
       " 'mccanbr01',\n",
       " 'medlekr01',\n",
       " 'oflaher01',\n",
       " 'ugglada01',\n",
       " 'uptonbj01',\n",
       " 'uptonju01',\n",
       " 'norribu01',\n",
       " 'penaca01',\n",
       " 'verasjo01',\n",
       " 'wrighwe01',\n",
       " 'doumiry01',\n",
       " 'floydga01',\n",
       " 'freemfr01',\n",
       " 'heywaja01',\n",
       " 'johnsch05',\n",
       " 'kimbrcr01',\n",
       " 'lairdge01',\n",
       " 'minormi01',\n",
       " 'santaer01',\n",
       " 'ugglada01',\n",
       " 'uptonbj01',\n",
       " 'uptonju01',\n",
       " 'waldejo01',\n",
       " 'altuvjo01',\n",
       " 'castrja01',\n",
       " 'feldmsc01',\n",
       " 'fowlede01',\n",
       " 'guzmaje01',\n",
       " 'quallch01',\n",
       " 'singljo02',\n",
       " 'cahiltr01',\n",
       " 'callaal01',\n",
       " 'carpeda01',\n",
       " 'freemfr01',\n",
       " 'gomesjo01',\n",
       " 'grillja01',\n",
       " 'johnsch05',\n",
       " 'johnsji04',\n",
       " 'johnske05',\n",
       " 'markani01',\n",
       " 'maybica01',\n",
       " 'pierzaj01',\n",
       " 'simmoan01',\n",
       " 'altuvjo01',\n",
       " 'carmofa01',\n",
       " 'cartech02',\n",
       " 'castrja01',\n",
       " 'congeha01',\n",
       " 'feldmsc01',\n",
       " 'gonzama01',\n",
       " 'gregelu01',\n",
       " 'lowrije01',\n",
       " 'neshepa01',\n",
       " 'quallch01',\n",
       " 'rasmuco01',\n",
       " 'singljo02',\n",
       " 'sippto01',\n",
       " 'valbulu01']"
      ]
     },
     "execution_count": 290,
     "metadata": {},
     "output_type": "execute_result"
    }
   ],
   "source": [
    "array = ['ATL', 'HOU']\n",
    "df.loc[(df['salary'] > 1000000) & df['teamID'].isin(array)].index.tolist()\n",
    "#Used the resource \"https://www.geeksforgeeks.org/return-the-index-label-if-some-condition-is-satisfied-over-a-column-in-pandas-dataframe/\""
   ]
  },
  {
   "cell_type": "markdown",
   "metadata": {},
   "source": [
    "#### The describe() Method"
   ]
  },
  {
   "cell_type": "markdown",
   "metadata": {},
   "source": [
    "Calculate the standard Deviation, first quartile, medium, third quartile, mean, maximum, minimum of the salary in team ATL."
   ]
  },
  {
   "cell_type": "code",
   "execution_count": 315,
   "metadata": {
    "ExecuteTime": {
     "end_time": "2019-08-28T01:46:27.395276Z",
     "start_time": "2019-08-28T01:46:27.368849Z"
    }
   },
   "outputs": [
    {
     "data": {
      "text/plain": [
       "count    8.850000e+02\n",
       "mean     2.208111e+06\n",
       "std      3.434162e+06\n",
       "min      6.000000e+04\n",
       "25%      3.000000e+05\n",
       "50%      6.000000e+05\n",
       "75%      2.400000e+06\n",
       "max      1.606180e+07\n",
       "Name: salary, dtype: float64"
      ]
     },
     "execution_count": 315,
     "metadata": {},
     "output_type": "execute_result"
    }
   ],
   "source": [
    "# df[df['teamID'] == 'ATL'].salary.describe()\n",
    "atldf = df[df['teamID'] == 'ATL']\n",
    "atldf['salary'].describe()"
   ]
  },
  {
   "cell_type": "markdown",
   "metadata": {},
   "source": [
    "#### The iterrows() Method"
   ]
  },
  {
   "cell_type": "markdown",
   "metadata": {},
   "source": [
    "Create a Python dictionary object whose keys are the headers of the dataframe created in the read_csv() exercise and values are Python list objects that contain data corresponding to the headers. (Here, use the iterrows method to iterate each row of the dataframe and copy it to a dictionary. However, there is a easier way. Learn how the to_dict() method works by yourself later)"
   ]
  },
  {
   "cell_type": "code",
   "execution_count": 292,
   "metadata": {
    "ExecuteTime": {
     "end_time": "2019-08-28T03:51:38.476575Z",
     "start_time": "2019-08-28T03:51:36.568044Z"
    }
   },
   "outputs": [],
   "source": [
    "salaries = {'yearID' : [], 'teamID' : [], 'lgID' : [], 'salary' : []}\n",
    "for row in df.iterrows():\n",
    "    salaries['yearID'].append(row[1]['yearID'])\n",
    "    salaries['teamID'].append(row[1]['teamID'])\n",
    "    salaries['lgID'].append(row[1]['lgID'])\n",
    "    salaries['salary'].append(row[1]['salary'])"
   ]
  },
  {
   "cell_type": "code",
   "execution_count": 293,
   "metadata": {},
   "outputs": [
    {
     "name": "stdout",
     "output_type": "stream",
     "text": [
      "25574\n",
      "25574\n",
      "25574\n",
      "25574\n"
     ]
    }
   ],
   "source": [
    "print(len(salaries['yearID']))\n",
    "print(len(salaries['teamID']))\n",
    "print(len(salaries['lgID']))\n",
    "print(len(salaries['salary']))"
   ]
  },
  {
   "cell_type": "code",
   "execution_count": 294,
   "metadata": {},
   "outputs": [
    {
     "data": {
      "text/plain": [
       "<bound method DataFrame.to_dict of            yearID teamID lgID    salary\n",
       "playerID                               \n",
       "barkele01    1985    ATL   NL    870000\n",
       "benedbr01    1985    ATL   NL    545000\n",
       "campri01     1985    ATL   NL    633333\n",
       "ceronri01    1985    ATL   NL    625000\n",
       "chambch01    1985    ATL   NL    800000\n",
       "...           ...    ...  ...       ...\n",
       "treinbl01    2015    WAS   NL    512800\n",
       "ugglada01    2015    WAS   NL    507500\n",
       "werthja01    2015    WAS   NL  21000000\n",
       "zimmejo02    2015    WAS   NL  16500000\n",
       "zimmery01    2015    WAS   NL  14000000\n",
       "\n",
       "[25574 rows x 4 columns]>"
      ]
     },
     "execution_count": 294,
     "metadata": {},
     "output_type": "execute_result"
    }
   ],
   "source": [
    "newsalaries = df.to_dict\n",
    "newsalaries"
   ]
  },
  {
   "cell_type": "markdown",
   "metadata": {},
   "source": [
    "#### Create Dataframe Using the Constructor"
   ]
  },
  {
   "cell_type": "markdown",
   "metadata": {
    "ExecuteTime": {
     "end_time": "2019-08-24T15:53:45.113577Z",
     "start_time": "2019-08-24T15:53:45.110554Z"
    }
   },
   "source": [
    "Read the documentation: https://pandas.pydata.org/pandas-docs/stable/reference/api/pandas.DataFrame.html#pandas.DataFrame and create a dataframe using pd.DataFrame from the dictionary created in the iterrows() exercise. Change the header to \"a\", \"b\", \"c\", ... at creation time."
   ]
  },
  {
   "cell_type": "code",
   "execution_count": 295,
   "metadata": {
    "ExecuteTime": {
     "end_time": "2019-08-28T03:53:06.129037Z",
     "start_time": "2019-08-28T03:53:06.074438Z"
    },
    "scrolled": true
   },
   "outputs": [
    {
     "data": {
      "text/html": [
       "<div>\n",
       "<style scoped>\n",
       "    .dataframe tbody tr th:only-of-type {\n",
       "        vertical-align: middle;\n",
       "    }\n",
       "\n",
       "    .dataframe tbody tr th {\n",
       "        vertical-align: top;\n",
       "    }\n",
       "\n",
       "    .dataframe thead th {\n",
       "        text-align: right;\n",
       "    }\n",
       "</style>\n",
       "<table border=\"1\" class=\"dataframe\">\n",
       "  <thead>\n",
       "    <tr style=\"text-align: right;\">\n",
       "      <th></th>\n",
       "      <th>a</th>\n",
       "      <th>b</th>\n",
       "      <th>c</th>\n",
       "      <th>d</th>\n",
       "    </tr>\n",
       "  </thead>\n",
       "  <tbody>\n",
       "    <tr>\n",
       "      <th>0</th>\n",
       "      <td>1985</td>\n",
       "      <td>ATL</td>\n",
       "      <td>NL</td>\n",
       "      <td>870000</td>\n",
       "    </tr>\n",
       "    <tr>\n",
       "      <th>1</th>\n",
       "      <td>1985</td>\n",
       "      <td>ATL</td>\n",
       "      <td>NL</td>\n",
       "      <td>545000</td>\n",
       "    </tr>\n",
       "    <tr>\n",
       "      <th>2</th>\n",
       "      <td>1985</td>\n",
       "      <td>ATL</td>\n",
       "      <td>NL</td>\n",
       "      <td>633333</td>\n",
       "    </tr>\n",
       "    <tr>\n",
       "      <th>3</th>\n",
       "      <td>1985</td>\n",
       "      <td>ATL</td>\n",
       "      <td>NL</td>\n",
       "      <td>625000</td>\n",
       "    </tr>\n",
       "    <tr>\n",
       "      <th>4</th>\n",
       "      <td>1985</td>\n",
       "      <td>ATL</td>\n",
       "      <td>NL</td>\n",
       "      <td>800000</td>\n",
       "    </tr>\n",
       "    <tr>\n",
       "      <th>...</th>\n",
       "      <td>...</td>\n",
       "      <td>...</td>\n",
       "      <td>...</td>\n",
       "      <td>...</td>\n",
       "    </tr>\n",
       "    <tr>\n",
       "      <th>25569</th>\n",
       "      <td>2015</td>\n",
       "      <td>WAS</td>\n",
       "      <td>NL</td>\n",
       "      <td>512800</td>\n",
       "    </tr>\n",
       "    <tr>\n",
       "      <th>25570</th>\n",
       "      <td>2015</td>\n",
       "      <td>WAS</td>\n",
       "      <td>NL</td>\n",
       "      <td>507500</td>\n",
       "    </tr>\n",
       "    <tr>\n",
       "      <th>25571</th>\n",
       "      <td>2015</td>\n",
       "      <td>WAS</td>\n",
       "      <td>NL</td>\n",
       "      <td>21000000</td>\n",
       "    </tr>\n",
       "    <tr>\n",
       "      <th>25572</th>\n",
       "      <td>2015</td>\n",
       "      <td>WAS</td>\n",
       "      <td>NL</td>\n",
       "      <td>16500000</td>\n",
       "    </tr>\n",
       "    <tr>\n",
       "      <th>25573</th>\n",
       "      <td>2015</td>\n",
       "      <td>WAS</td>\n",
       "      <td>NL</td>\n",
       "      <td>14000000</td>\n",
       "    </tr>\n",
       "  </tbody>\n",
       "</table>\n",
       "<p>25574 rows × 4 columns</p>\n",
       "</div>"
      ],
      "text/plain": [
       "          a    b   c         d\n",
       "0      1985  ATL  NL    870000\n",
       "1      1985  ATL  NL    545000\n",
       "2      1985  ATL  NL    633333\n",
       "3      1985  ATL  NL    625000\n",
       "4      1985  ATL  NL    800000\n",
       "...     ...  ...  ..       ...\n",
       "25569  2015  WAS  NL    512800\n",
       "25570  2015  WAS  NL    507500\n",
       "25571  2015  WAS  NL  21000000\n",
       "25572  2015  WAS  NL  16500000\n",
       "25573  2015  WAS  NL  14000000\n",
       "\n",
       "[25574 rows x 4 columns]"
      ]
     },
     "execution_count": 295,
     "metadata": {},
     "output_type": "execute_result"
    }
   ],
   "source": [
    "newdf = pd.DataFrame(salaries)\n",
    "newdf.columns = ['a','b','c','d']\n",
    "newdf"
   ]
  },
  {
   "cell_type": "markdown",
   "metadata": {},
   "source": [
    "### Numpy"
   ]
  },
  {
   "cell_type": "markdown",
   "metadata": {},
   "source": [
    "Quick start: https://www.numpy.org/devdocs/user/quickstart.html\n",
    "\n",
    "Numpy axes explaination: https://www.sharpsightlabs.com/blog/numpy-axes-explained/"
   ]
  },
  {
   "cell_type": "markdown",
   "metadata": {},
   "source": [
    "#### The np.array Method"
   ]
  },
  {
   "cell_type": "markdown",
   "metadata": {},
   "source": [
    "Example 1:\n",
    "\n",
    "```python\n",
    "ls = [1, 2, 3]\n",
    "arr = np.array(ls)\n",
    "```\n",
    "\n",
    "Example 2:\n",
    "```python\n",
    ">>> np.array([[1, 2], [3, 4]])\n",
    "array([[1, 2],\n",
    "       [3, 4]])\n",
    "```"
   ]
  },
  {
   "cell_type": "markdown",
   "metadata": {},
   "source": [
    "Now, create a 2-dimensional Python list object, then convert it to a Numpy array object."
   ]
  },
  {
   "cell_type": "code",
   "execution_count": 296,
   "metadata": {},
   "outputs": [
    {
     "data": {
      "text/plain": [
       "array([[1, 2, 3],\n",
       "       [3, 4, 5]])"
      ]
     },
     "execution_count": 296,
     "metadata": {},
     "output_type": "execute_result"
    }
   ],
   "source": [
    "arr = np.array([[1,2,3],[3,4,5]])\n",
    "arr"
   ]
  },
  {
   "cell_type": "markdown",
   "metadata": {},
   "source": [
    "#### ndarray Objects' Attributes"
   ]
  },
  {
   "cell_type": "markdown",
   "metadata": {},
   "source": [
    "Play with the **ndim, shape, size, dtype, itemsize and data** attribute.\n",
    "\n",
    "Example:\n",
    "\n",
    "```python\n",
    ">>> arr = np.array([[1, 2], [3, 4]])\n",
    ">>> arr.ndim\n",
    "2\n",
    "```"
   ]
  },
  {
   "cell_type": "code",
   "execution_count": 297,
   "metadata": {},
   "outputs": [
    {
     "name": "stdout",
     "output_type": "stream",
     "text": [
      "arr.dim =  2\n",
      "arr.shape =  (2, 3)\n",
      "arr.size =  6\n",
      "arr.dtype =  int32\n",
      "arr.itemsize =  4\n",
      "arr.data =  <memory at 0x000002B8E489EAC8>\n"
     ]
    }
   ],
   "source": [
    "print(\"arr.dim = \", arr.ndim)\n",
    "\n",
    "print(\"arr.shape = \", arr.shape)\n",
    "\n",
    "print(\"arr.size = \", arr.size)\n",
    "\n",
    "print(\"arr.dtype = \", arr.dtype)\n",
    "\n",
    "print(\"arr.itemsize = \", arr.itemsize)\n",
    "\n",
    "print(\"arr.data = \", arr.data)\n"
   ]
  },
  {
   "cell_type": "markdown",
   "metadata": {},
   "source": [
    "#### Dimension of ndarray Ojects"
   ]
  },
  {
   "cell_type": "markdown",
   "metadata": {},
   "source": [
    "Play with the reshape() and flatten() method.\n",
    "\n",
    "Example:\n",
    "```python\n",
    ">>> arr = np.array([[1, 2], [3, 4]])\n",
    ">>> arr.flatten()\n",
    "array([1, 2, 3, 4])\n",
    "```"
   ]
  },
  {
   "cell_type": "code",
   "execution_count": 298,
   "metadata": {},
   "outputs": [
    {
     "name": "stdout",
     "output_type": "stream",
     "text": [
      "myarr [[[ 0  1]\n",
      "  [ 2  3]\n",
      "  [ 4  5]\n",
      "  [ 6  7]\n",
      "  [ 8  9]]\n",
      "\n",
      " [[10 11]\n",
      "  [12 13]\n",
      "  [14 15]\n",
      "  [16 17]\n",
      "  [18 19]]\n",
      "\n",
      " [[20 21]\n",
      "  [22 23]\n",
      "  [24 25]\n",
      "  [26 27]\n",
      "  [28 29]]]\n",
      "newarr [ 0  1  2  3  4  5  6  7  8  9 10 11 12 13 14 15 16 17 18 19 20 21 22 23\n",
      " 24 25 26 27 28 29]\n"
     ]
    }
   ],
   "source": [
    "myarr = np.arange(30).reshape(3,5,2)\n",
    "print(\"myarr\", myarr)\n",
    "\n",
    "newarr = myarr.flatten()\n",
    "print(\"newarr\", newarr)"
   ]
  },
  {
   "cell_type": "markdown",
   "metadata": {},
   "source": [
    "#### The Slice Operation of ndarray Objects"
   ]
  },
  {
   "cell_type": "markdown",
   "metadata": {},
   "source": [
    "Understand how the slice operation works for 1-D array and 2-D array.\n",
    "\n",
    "Example:\n",
    "\n",
    "```python\n",
    ">>> arr = np.array([[1, 2, 3], [3, 4, 6], [7, 8, 9]])\n",
    ">>> arr[1:]\n",
    "array([[3, 4, 6],\n",
    "       [7, 8, 9]])\n",
    ">>> arr[1:, 0:2]\n",
    "array([[3, 4],\n",
    "       [7, 8]])\n",
    "```"
   ]
  },
  {
   "cell_type": "code",
   "execution_count": 299,
   "metadata": {},
   "outputs": [
    {
     "name": "stdout",
     "output_type": "stream",
     "text": [
      "arrayslice =  [[[10 11]\n",
      "  [12 13]\n",
      "  [14 15]\n",
      "  [16 17]\n",
      "  [18 19]]\n",
      "\n",
      " [[20 21]\n",
      "  [22 23]\n",
      "  [24 25]\n",
      "  [26 27]\n",
      "  [28 29]]]\n",
      "arrayslice =  [[[29 28]\n",
      "  [27 26]\n",
      "  [25 24]\n",
      "  [23 22]\n",
      "  [21 20]]\n",
      "\n",
      " [[19 18]\n",
      "  [17 16]\n",
      "  [15 14]\n",
      "  [13 12]\n",
      "  [11 10]]\n",
      "\n",
      " [[ 9  8]\n",
      "  [ 7  6]\n",
      "  [ 5  4]\n",
      "  [ 3  2]\n",
      "  [ 1  0]]]\n",
      "arrayslice =  [[[25 24]\n",
      "  [23 22]]\n",
      "\n",
      " [[15 14]\n",
      "  [13 12]]\n",
      "\n",
      " [[ 5  4]\n",
      "  [ 3  2]]]\n"
     ]
    }
   ],
   "source": [
    "print(\"arrayslice = \", myarr[1:])\n",
    "print(\"arrayslice = \", myarr[:: -1, : : -1, ::-1])\n",
    "print(\"arrayslice = \", myarr[:: -1, 2:0: -1, ::-1])"
   ]
  },
  {
   "cell_type": "markdown",
   "metadata": {},
   "source": [
    "#### The Calculation of ndarray Objects"
   ]
  },
  {
   "cell_type": "markdown",
   "metadata": {},
   "source": [
    "Play with the **argmin(), argmax(), min(), max(), mean(), sum(), std(), dot(), square(), sqrt(), abs(). exp(), sign(), mod()** method.\n",
    "\n",
    "Example:\n",
    "\n",
    "```python\n",
    ">>> np.square(array)\n",
    "array([[ 1,  4,  9],\n",
    "       [ 9, 16, 36],\n",
    "       [49, 64, 81]])\n",
    "\n",
    "```"
   ]
  },
  {
   "cell_type": "code",
   "execution_count": 300,
   "metadata": {},
   "outputs": [
    {
     "name": "stdout",
     "output_type": "stream",
     "text": [
      "[[[0.51182162 0.9504637 ]\n",
      "  [0.14415961 0.94864945]\n",
      "  [0.31183145 0.42332645]\n",
      "  [0.82770259 0.40919914]\n",
      "  [0.54959369 0.02755911]\n",
      "  [0.75351311 0.53814331]]\n",
      "\n",
      " [[0.32973172 0.7884287 ]\n",
      "  [0.30319483 0.45349789]\n",
      "  [0.1340417  0.40311299]\n",
      "  [0.20345524 0.26231334]\n",
      "  [0.75036467 0.28040876]\n",
      "  [0.48519097 0.9807372 ]]]\n",
      "argmin =  9\n",
      "argmax =  23\n",
      "min =  0.027559113243068367\n",
      "max =  0.9807371998012386\n",
      "mean =  0.49043505180112495\n",
      "sum =  11.770441243227\n",
      "std =  0.2708111139531076\n",
      "b =  [0.96165719 0.72478994 0.54122686 0.2768912  0.16065201 0.96992541\n",
      " 0.51606859]\n",
      "c =  [0.11586561 0.62348976 0.77668311 0.6130033  0.9172977  0.03959288\n",
      " 0.52858926]\n",
      "1D dot =  1.611975254169149\n",
      "d = [[0.45933588 0.06234958]]\n",
      "e =  [[0.64132817]\n",
      " [0.85263284]]\n",
      "2D dot =  [[0.34774634]]\n",
      "square =  [0.92478456 0.52532046 0.29292651 0.07666874 0.02580907 0.94075531\n",
      " 0.26632678]\n",
      "squareroot =  [0.96165719 0.72478994 0.54122686 0.2768912  0.16065201 0.96992541\n",
      " 0.51606859]\n",
      "absolute values =  [1.54768897e+00 3.45676000e-01 4.36789000e+05]\n",
      "exponential values =  54.598150033144236\n",
      "sign =  [-1.  1. -1.]\n",
      "mod =  [0.03473229 0.10130019 0.54122686 0.2768912  0.16065201 0.01969637\n",
      " 0.51606859]\n"
     ]
    }
   ],
   "source": [
    "rg = np.random.default_rng(1) \n",
    "a = rg.random((2,6,2))\n",
    "print(a)\n",
    "print(\"argmin = \", np.argmin(a))\n",
    "print(\"argmax = \", np.argmax(a))\n",
    "print(\"min = \", np.min(a))\n",
    "print(\"max = \", np.max(a))\n",
    "print(\"mean = \", np.mean(a))\n",
    "print(\"sum = \", np.sum(a))\n",
    "print(\"std = \", np.std(a))\n",
    "b = rg.random(7)\n",
    "print(\"b = \", b)\n",
    "c = rg.random(7)\n",
    "print(\"c = \", c)\n",
    "print(\"1D dot = \", np.dot(b,c))\n",
    "d = rg.random((1,2))\n",
    "e = rg.random((2,1))\n",
    "print(\"d =\", d)\n",
    "print(\"e = \", e)\n",
    "print(\"2D dot = \", np.dot(d,e))\n",
    "f = np.square(b)\n",
    "print('square = ', f)\n",
    "print('squareroot = ', np.sqrt(f))\n",
    "g = np.array([-1.54768897, 0.345676, -436789])\n",
    "print(\"absolute values = \", np.abs(g))\n",
    "print(\"exponential values = \", np.exp(4))\n",
    "print(\"sign = \", np.sign(g))\n",
    "print(\"mod = \", np.mod(b,c))"
   ]
  },
  {
   "cell_type": "markdown",
   "metadata": {},
   "source": [
    "#### Other Important Methods Inside Module Numpy"
   ]
  },
  {
   "cell_type": "markdown",
   "metadata": {},
   "source": [
    "Play with the arange(), ones(), zeros(), eye(), linspace(), concatenate() method.\n",
    "\n",
    "Example:\n",
    "\n",
    "```python\n",
    ">>> np.eye(3)\n",
    "array([[1., 0., 0.],\n",
    "       [0., 1., 0.],\n",
    "       [0., 0., 1.]])\n",
    "```"
   ]
  },
  {
   "cell_type": "code",
   "execution_count": 301,
   "metadata": {},
   "outputs": [
    {
     "name": "stdout",
     "output_type": "stream",
     "text": [
      "using arange: \n",
      "a = \n",
      " [[[ 10  13  16  19  22  25  28  31  34  37  40  43  46  49  52]\n",
      "  [ 55  58  61  64  67  70  73  76  79  82  85  88  91  94  97]\n",
      "  [100 103 106 109 112 115 118 121 124 127 130 133 136 139 142]\n",
      "  [145 148 151 154 157 160 163 166 169 172 175 178 181 184 187]\n",
      "  [190 193 196 199 202 205 208 211 214 217 220 223 226 229 232]\n",
      "  [235 238 241 244 247 250 253 256 259 262 265 268 271 274 277]\n",
      "  [280 283 286 289 292 295 298 301 304 307 310 313 316 319 322]\n",
      "  [325 328 331 334 337 340 343 346 349 352 355 358 361 364 367]\n",
      "  [370 373 376 379 382 385 388 391 394 397 400 403 406 409 412]\n",
      "  [415 418 421 424 427 430 433 436 439 442 445 448 451 454 457]\n",
      "  [460 463 466 469 472 475 478 481 484 487 490 493 496 499 502]]\n",
      "\n",
      " [[505 508 511 514 517 520 523 526 529 532 535 538 541 544 547]\n",
      "  [550 553 556 559 562 565 568 571 574 577 580 583 586 589 592]\n",
      "  [595 598 601 604 607 610 613 616 619 622 625 628 631 634 637]\n",
      "  [640 643 646 649 652 655 658 661 664 667 670 673 676 679 682]\n",
      "  [685 688 691 694 697 700 703 706 709 712 715 718 721 724 727]\n",
      "  [730 733 736 739 742 745 748 751 754 757 760 763 766 769 772]\n",
      "  [775 778 781 784 787 790 793 796 799 802 805 808 811 814 817]\n",
      "  [820 823 826 829 832 835 838 841 844 847 850 853 856 859 862]\n",
      "  [865 868 871 874 877 880 883 886 889 892 895 898 901 904 907]\n",
      "  [910 913 916 919 922 925 928 931 934 937 940 943 946 949 952]\n",
      "  [955 958 961 964 967 970 973 976 979 982 985 988 991 994 997]]]\n",
      "b : \n",
      " [[1. 1. 1.]\n",
      " [1. 1. 1.]]\n",
      "c : \n",
      " [[0. 0. 0.]\n",
      " [0. 0. 0.]\n",
      " [0. 0. 0.]]\n",
      "d: \n",
      " [[1. 0. 0. 0.]\n",
      " [0. 1. 0. 0.]\n",
      " [0. 0. 1. 0.]\n",
      " [0. 0. 0. 1.]]\n",
      "e : \n",
      " [3.3        3.43333333 3.56666667 3.7        3.83333333 3.96666667\n",
      " 4.1        4.23333333 4.36666667 4.5       ]\n",
      "f: \n",
      " [[1. 1. 1.]\n",
      " [1. 1. 1.]\n",
      " [0. 0. 0.]\n",
      " [0. 0. 0.]\n",
      " [0. 0. 0.]]\n"
     ]
    }
   ],
   "source": [
    "print(\"using arange: \")\n",
    "a = np.arange(10, 1000, 3).reshape(2,11,15)\n",
    "print(\"a = \\n\", a)\n",
    "b = np.ones((2,3))\n",
    "print(\"b : \\n\",b)\n",
    "c = np.zeros((3,3))\n",
    "print(\"c : \\n\", c)\n",
    "d = np.eye(4)\n",
    "print(\"d: \\n\", d)\n",
    "e = np.linspace(3.3, 4.5, num = 10)\n",
    "print(\"e : \\n\", e)\n",
    "f = np.concatenate((b,c))\n",
    "print(\"f: \\n\", f)"
   ]
  },
  {
   "cell_type": "markdown",
   "metadata": {},
   "source": [
    "### Scikit-Learn"
   ]
  },
  {
   "cell_type": "markdown",
   "metadata": {},
   "source": [
    "The followings are packages (or methods) in Python (Scikit-Learn and Scipy) that will be frequently used in your programming assignment. So, please read carefully.\n",
    "\n",
    "- Data Preprocessing (https://scikit-learn.org/stable/modules/classes.html#module-sklearn.preprocessing)\n",
    "    - Standardization: StandardScaler\n",
    "    - Normalization: MinMaxScaler\n",
    "    - Quantifing Categorical Features: LabelEncoder. OneHotEncoder\n",
    "    - Construct Train and Test Set: model_selection.train_test_split\n",
    "- KNN: KNeighborsClassifier\n",
    "- Linear Regression: LinearRegression\n",
    "- Logistic Regression: LogisticRegression, LogisticRegressionCV\n",
    "- Feature Selection / Model Selection\n",
    "    - L1 Penalized Regression (Lasso Regression) with Cross-Validation: LassoCV\n",
    "    - L2 Penalized Regression (Ridge Regression) with Cross-Validation: RidgeCV\n",
    "    - Cross-Validation: StratifiedKFold, RepeatedKFold, LeaveOneOut, KFold, model_selection.cross_validate, model_selection.cross_val_predict, model_selection.cross_val_score\n",
    "    - Model Metrics (https://scikit-learn.org/stable/modules/classes.html#sklearn-metrics-metrics): accuracy_score, auc, f1_score, hamming_loss, precision_score, recall_score, roc_auc_score\n",
    "- Decision Tree: DecisionTreeClassifier, DecisionTreeRegressor\n",
    "- Bootstrap, Ensemble Methods\n",
    "    - Bootstrap: bootstrapped (https://pypi.org/project/bootstrapped/)\n",
    "    - Bagging: RandomForestClassifier, RandomForestRegressor\n",
    "    - Boosting: AdaBoostClassifier, AdaBoostRegressor\n",
    "- Support Vector Machines (https://scikit-learn.org/stable/modules/svm.html#svm): LinearSVC, LinearSVR\n",
    "- Multiclass and Multilabel Classification (https://scikit-learn.org/stable/modules/classes.html#module-sklearn.multiclass)\n",
    "    - One-vs-one Multiclass Strategy: OneVsOneClassifier\n",
    "    - One-vs-the-rest (OvR) multiclass/multilabel strategy / OneVsRestClassifier\n",
    "- Unsupervised Learning\n",
    "    - K-means Clustering: KMeans\n",
    "    - Hierarchical Clustering: scipy.cluster.hierarchy (not scikit-learn)\n",
    "- Semisupervised Learning (https://scikit-learn.org/stable/modules/label_propagation.html)"
   ]
  },
  {
   "cell_type": "markdown",
   "metadata": {},
   "source": [
    "### Matplotlib"
   ]
  },
  {
   "cell_type": "markdown",
   "metadata": {},
   "source": [
    "**Quick start:** https://matplotlib.org/3.1.1/tutorials/introductory/pyplot.html\n",
    "\n",
    "**Exercises:**"
   ]
  },
  {
   "cell_type": "markdown",
   "metadata": {},
   "source": [
    "(a) Create two one dimensional arrays x and y and plot y vs x, add title, xlabel, ylabel, grid.\n",
    "\n",
    "```python\n",
    "import numpy as np\n",
    "import matplotlib.pyplot as plt\n",
    "\n",
    "\n",
    "x = np.linspace(-5, 5, num=20)\n",
    "y = np.array([j ** 2 for j in x])\n",
    "```\n",
    "\n",
    "copy the code above to the following cell and add code for plotting the parabola."
   ]
  },
  {
   "cell_type": "code",
   "execution_count": 302,
   "metadata": {
    "ExecuteTime": {
     "end_time": "2020-01-08T10:38:20.467433Z",
     "start_time": "2020-01-08T10:38:20.462120Z"
    }
   },
   "outputs": [
    {
     "name": "stdout",
     "output_type": "stream",
     "text": [
      "x: \n",
      " [-5.         -4.47368421 -3.94736842 -3.42105263 -2.89473684 -2.36842105\n",
      " -1.84210526 -1.31578947 -0.78947368 -0.26315789  0.26315789  0.78947368\n",
      "  1.31578947  1.84210526  2.36842105  2.89473684  3.42105263  3.94736842\n",
      "  4.47368421  5.        ]\n",
      "y: \n",
      "[25.         20.01385042 15.58171745 11.70360111  8.37950139  5.60941828\n",
      "  3.3933518   1.73130194  0.6232687   0.06925208  0.06925208  0.6232687\n",
      "  1.73130194  3.3933518   5.60941828  8.37950139 11.70360111 15.58171745\n",
      " 20.01385042 25.        ]\n"
     ]
    },
    {
     "data": {
      "image/png": "[encoded data removed]",
      "text/plain": [
       "<Figure size 432x288 with 1 Axes>"
      ]
     },
     "metadata": {
      "needs_background": "light"
     },
     "output_type": "display_data"
    }
   ],
   "source": [
    "import numpy as np\n",
    "import matplotlib.pyplot as plt\n",
    "\n",
    "x = np.linspace(-5,5,num=20)\n",
    "y = np.array([j ** 2 for j in x])\n",
    "print(\"x: \\n %s\\ny: \\n%s\" % (x,y))\n",
    "\n",
    "plt.plot(x,y)\n",
    "plt.show()"
   ]
  },
  {
   "cell_type": "markdown",
   "metadata": {
    "ExecuteTime": {
     "end_time": "2020-01-08T10:43:28.333944Z",
     "start_time": "2020-01-08T10:43:28.260989Z"
    }
   },
   "source": [
    "What happens if the independent variable is not sorted before plotting? Try plotting directly using the following defined array.\n",
    "\n",
    "```python\n",
    "import numpy as np\n",
    "import matplotlib.pyplot as plt\n",
    "\n",
    "\n",
    "x = np.linspace(-5, 5, num=20)\n",
    "np.random.shuffle(x)\n",
    "y = np.array([j ** 2 for j in x])\n",
    "```"
   ]
  },
  {
   "cell_type": "code",
   "execution_count": 303,
   "metadata": {},
   "outputs": [
    {
     "data": {
      "image/png": "[encoded data removed]",
      "text/plain": [
       "<Figure size 432x288 with 1 Axes>"
      ]
     },
     "metadata": {
      "needs_background": "light"
     },
     "output_type": "display_data"
    }
   ],
   "source": [
    "x = np.linspace(-5,5, num = 20)\n",
    "np.random.shuffle(x)\n",
    "y = np.array([j ** 2 for j in x])\n",
    "\n",
    "plt.plot(x,y)\n",
    "plt.show()"
   ]
  },
  {
   "cell_type": "markdown",
   "metadata": {},
   "source": [
    "(b) Create multiple arrays and plot them with different styles, add legends, add text/mathematical equations on the plot.\n",
    "\n",
    "```python\n",
    "import numpy as np\n",
    "import matplotlib.pyplot as plt\n",
    "\n",
    "\n",
    "x = np.linspace(-5, 5, num=20)\n",
    "y1 = np.array([j for j in x])\n",
    "y2 = np.array([j ** 2 for j in x])\n",
    "y3 = np.array([j ** 3 for j in x])\n",
    "```\n",
    "\n",
    "copy the code above to the following cell and add code for plotting curve $\\left(x, y1\\right)$, $\\left(x, y2\\right)$ and $\\left(x, y3\\right)$."
   ]
  },
  {
   "cell_type": "code",
   "execution_count": 304,
   "metadata": {},
   "outputs": [
    {
     "data": {
      "image/png": "[encoded data removed]",
      "text/plain": [
       "<Figure size 432x288 with 1 Axes>"
      ]
     },
     "metadata": {
      "needs_background": "light"
     },
     "output_type": "display_data"
    }
   ],
   "source": [
    "x = np.linspace(-5, 5, num=20)\n",
    "y1 = np.array([j for j in x])\n",
    "y2 = np.array([j ** 2 for j in x])\n",
    "y3 = np.array([j ** 3 for j in x])\n",
    "\n",
    "# single = plt.plot(x,y1, marker = \"bo\", label = \"\")\n",
    "# # plt.show()\n",
    "\n",
    "# square = plt.plot(x,y2, \"r+\")\n",
    "# # plt.show()\n",
    "\n",
    "# cube = plt.plot(x,y3, \"y^\")\n",
    "# plt.legend([single,square, cube], [\"single\", \"square\", \"cube\"])\n",
    "# plt.show()\n",
    "\n",
    "fig, ax = plt.subplots()\n",
    "ax.plot(x,y1, 'bo', label = 'single')\n",
    "ax.text(-4.5, -20, r'$y = x$', fontsize = 10)\n",
    "ax.plot(x,y2, 'r+', label = 'Square')\n",
    "ax.text(-4.5, 20, r'$y = x^2$', fontsize = 10)\n",
    "ax.plot(x,y3, 'y^', label = 'cube')\n",
    "ax.text(-4.5, -50, r'$y = x^3$', fontsize = 10)\n",
    "ax.legend(loc='upper center', fontsize='large')\n",
    "\n",
    "plt.show()\n",
    "\n"
   ]
  },
  {
   "cell_type": "markdown",
   "metadata": {},
   "source": [
    "(c) Create multiple arrays and plot them into one figure **(No multiple figure and no subplot is allowed in this question)**.\n",
    "\n",
    "```python\n",
    "import numpy as np\n",
    "import matplotlib.pyplot as plt\n",
    "\n",
    "\n",
    "x = np.linspace(-5, 5, num=20)\n",
    "y1 = np.array([j for j in x])\n",
    "y2 = np.array([j ** 2 for j in x])\n",
    "y3 = np.array([j ** 3 for j in x])\n",
    "```\n",
    "\n",
    "copy the code above to the following cell and add code for plotting curve $\\left(x, y1\\right)$, $\\left(x, y2\\right)$ and $\\left(x, y3\\right)$."
   ]
  },
  {
   "cell_type": "code",
   "execution_count": 305,
   "metadata": {},
   "outputs": [
    {
     "data": {
      "image/png": "[encoded data removed]",
      "text/plain": [
       "<Figure size 432x288 with 1 Axes>"
      ]
     },
     "metadata": {
      "needs_background": "light"
     },
     "output_type": "display_data"
    }
   ],
   "source": [
    "x = np.linspace(-5, 5, num=20)\n",
    "y1 = np.array([j for j in x])\n",
    "y2 = np.array([j ** 2 for j in x])\n",
    "y3 = np.array([j ** 3 for j in x])\n",
    "\n",
    "plt.plot(x,y1,\"bo\")\n",
    "plt.plot(x,y2, \"r+\")\n",
    "plt.plot(x,y3, \"y^\")\n",
    "plt.show()"
   ]
  },
  {
   "cell_type": "markdown",
   "metadata": {},
   "source": [
    "(d) Create multiple subplots, play around with the figure size, figure title, and its font style and font size **(One curve is plotted in one subplot in this question)**.\n",
    "\n",
    "```python\n",
    "import numpy as np\n",
    "import matplotlib.pyplot as plt\n",
    "\n",
    "\n",
    "x = np.linspace(-5, 5, num=20)\n",
    "y1 = np.array([j for j in x])\n",
    "y2 = np.array([j ** 2 for j in x])\n",
    "y3 = np.array([j ** 3 for j in x])\n",
    "```\n",
    "\n",
    "copy the code above to the following cell and add code for plotting curve $\\left(x, y1\\right)$, $\\left(x, y2\\right)$ and $\\left(x, y3\\right)$."
   ]
  },
  {
   "cell_type": "code",
   "execution_count": 306,
   "metadata": {},
   "outputs": [
    {
     "data": {
      "image/png": "[encoded data removed]",
      "text/plain": [
       "<Figure size 432x288 with 3 Axes>"
      ]
     },
     "metadata": {
      "needs_background": "light"
     },
     "output_type": "display_data"
    }
   ],
   "source": [
    "x = np.linspace(-5, 5, num=20)\n",
    "y1 = np.array([j for j in x])\n",
    "y2 = np.array([j ** 2 for j in x])\n",
    "y3 = np.array([j ** 3 for j in x])\n",
    "\n",
    "fig, ax = plt.subplots(1,3)\n",
    "ax[0].plot(x,y1, 'bo', label = 'single')\n",
    "ax[0].set_title('y=x', fontsize=20,fontname='Arial')\n",
    "ax[1].plot(x,y2, 'r+', label = 'Square')\n",
    "ax[1].set_title(r'$y = x^2$',fontsize = 30, style='italic')\n",
    "ax[2].plot(x,y3, 'y^', label = 'cube')\n",
    "ax[2].set_title(r'$y=x^3$')\n",
    "\n",
    "plt.show()"
   ]
  },
  {
   "cell_type": "markdown",
   "metadata": {},
   "source": [
    "(e) Change the limits on x and y axes, **use logarithmic axes to plot**.\n",
    "\n",
    "```python\n",
    "import numpy as np\n",
    "import matplotlib.pyplot as plt\n",
    "\n",
    "\n",
    "x = np.linspace(-5, 5, num=20)\n",
    "y = np.array([j ** 2 for j in x])\n",
    "```\n",
    "\n",
    "copy the code above to the following cell and add code for plotting the parabola."
   ]
  },
  {
   "cell_type": "code",
   "execution_count": 307,
   "metadata": {},
   "outputs": [
    {
     "data": {
      "image/png": "[encoded data removed]",
      "text/plain": [
       "<Figure size 432x288 with 1 Axes>"
      ]
     },
     "metadata": {
      "needs_background": "light"
     },
     "output_type": "display_data"
    }
   ],
   "source": [
    "x = np.linspace(-5, 5, num=20)\n",
    "y = np.array([j ** 2 for j in x])\n",
    "\n",
    "plt.plot(x,y)\n",
    "plt.yscale('log')\n",
    "plt.xscale('log')\n",
    "plt.show()"
   ]
  },
  {
   "cell_type": "markdown",
   "metadata": {},
   "source": [
    "### Pandas's DataFrame.plot and Seaborn"
   ]
  },
  {
   "cell_type": "markdown",
   "metadata": {},
   "source": [
    "#### Pandas's DataFrame.plot\n",
    "\n",
    "Use the Salaries.csv again (You can use the dataframe object loaded from section 3.1)."
   ]
  },
  {
   "cell_type": "markdown",
   "metadata": {},
   "source": [
    "(a) For team 'ATL', plot a scatter plot between feature yearID and salary."
   ]
  },
  {
   "cell_type": "code",
   "execution_count": 318,
   "metadata": {},
   "outputs": [
    {
     "data": {
      "text/plain": [
       "<matplotlib.axes._subplots.AxesSubplot at 0x2b8e4aeb108>"
      ]
     },
     "execution_count": 318,
     "metadata": {},
     "output_type": "execute_result"
    },
    {
     "data": {
      "image/png": "[encoded data removed]",
      "text/plain": [
       "<Figure size 432x288 with 1 Axes>"
      ]
     },
     "metadata": {
      "needs_background": "light"
     },
     "output_type": "display_data"
    }
   ],
   "source": [
    "atldf.plot.scatter(x='yearID',y='salary')"
   ]
  },
  {
   "cell_type": "markdown",
   "metadata": {},
   "source": [
    "(b) For year 1985, plot a bar chart to show the average salary for each team."
   ]
  },
  {
   "cell_type": "code",
   "execution_count": 328,
   "metadata": {},
   "outputs": [
    {
     "name": "stdout",
     "output_type": "stream",
     "text": [
      "   teamID        salary\n",
      "0     ANA  1.895109e+06\n",
      "1     ARI  2.479160e+06\n",
      "2     ATL  2.208111e+06\n",
      "3     BAL  1.915746e+06\n",
      "4     BOS  2.856617e+06\n",
      "5     CAL  7.390732e+05\n",
      "6     CHA  2.099929e+06\n",
      "7     CHN  2.255380e+06\n",
      "8     CIN  1.717922e+06\n",
      "9     CLE  1.618959e+06\n",
      "10    COL  2.070938e+06\n",
      "11    DET  2.246801e+06\n",
      "12    FLO  1.147986e+06\n",
      "13    HOU  1.735462e+06\n",
      "14    KCA  1.431270e+06\n",
      "15    LAA  4.208636e+06\n",
      "16    LAN  2.661127e+06\n",
      "17    MIA  2.564444e+06\n",
      "18    MIL  2.261833e+06\n",
      "19    MIN  1.660231e+06\n",
      "20    ML4  6.132436e+05\n",
      "21    MON  7.074589e+05\n",
      "22    NYA  3.850079e+06\n",
      "23    NYN  2.387047e+06\n",
      "24    OAK  1.392308e+06\n",
      "25    PHI  2.278617e+06\n",
      "26    PIT  1.193216e+06\n",
      "27    SDN  1.456114e+06\n",
      "28    SEA  2.068378e+06\n",
      "29    SFN  2.290805e+06\n",
      "30    SLN  2.077711e+06\n",
      "31    TBA  1.635819e+06\n",
      "32    TEX  2.049529e+06\n",
      "33    TOR  1.922223e+06\n",
      "34    WAS  2.730243e+06\n"
     ]
    },
    {
     "data": {
      "text/plain": [
       "<matplotlib.axes._subplots.AxesSubplot at 0x2b5381a0ec8>"
      ]
     },
     "execution_count": 328,
     "metadata": {},
     "output_type": "execute_result"
    },
    {
     "data": {
      "image/png": "[encoded data removed]",
      "text/plain": [
       "<Figure size 432x288 with 1 Axes>"
      ]
     },
     "metadata": {
      "needs_background": "light"
     },
     "output_type": "display_data"
    }
   ],
   "source": [
    "yeardf = df[df['yearID'] == 1985]\n",
    "avgsal = df[['teamID', 'salary']].groupby(['teamID']).mean().reset_index()\n",
    "print(avgsal)\n",
    "avgsal.plot(kind='bar', x = 'teamID', y = 'salary')\n"
   ]
  },
  {
   "cell_type": "markdown",
   "metadata": {},
   "source": [
    "(c) For team 'ATL', plot a line chart to show how the annual average salary change by years."
   ]
  },
  {
   "cell_type": "code",
   "execution_count": 336,
   "metadata": {},
   "outputs": [
    {
     "data": {
      "image/png": "[encoded data removed]",
      "text/plain": [
       "<Figure size 432x288 with 1 Axes>"
      ]
     },
     "metadata": {
      "needs_background": "light"
     },
     "output_type": "display_data"
    }
   ],
   "source": [
    "annualsal = atldf.groupby(['yearID']).mean().plot()"
   ]
  },
  {
   "cell_type": "markdown",
   "metadata": {},
   "source": [
    "#### Seaborn"
   ]
  },
  {
   "cell_type": "markdown",
   "metadata": {},
   "source": [
    "(a) Append one more numeric feature to the data frame (can be generated randomly), then for team 'ATL', use the seaborn.pairplot to plot scatter plots among all numeric features in the data frame for team. "
   ]
  },
  {
   "cell_type": "code",
   "execution_count": 344,
   "metadata": {},
   "outputs": [
    {
     "data": {
      "text/plain": [
       "<seaborn.axisgrid.PairGrid at 0x2b8e6be8c88>"
      ]
     },
     "execution_count": 344,
     "metadata": {},
     "output_type": "execute_result"
    },
    {
     "data": {
      "image/png": "[encoded data removed]",
      "text/plain": [
       "<Figure size 540x540 with 12 Axes>"
      ]
     },
     "metadata": {
      "needs_background": "light"
     },
     "output_type": "display_data"
    }
   ],
   "source": [
    "import seaborn as sns\n",
    "df['newcolumn'] = np.random.randint(0, 23456789, size=len(df))\n",
    "newatldf = df[df['teamID'] == 'ATL']\n",
    "newatldf\n",
    "sns.pairplot(newatldf)"
   ]
  },
  {
   "cell_type": "markdown",
   "metadata": {},
   "source": [
    "(b) For year 1985 and for each team, plot a boxplot to show how the salary distribute within a team."
   ]
  },
  {
   "cell_type": "code",
   "execution_count": 348,
   "metadata": {},
   "outputs": [
    {
     "data": {
      "text/plain": [
       "<matplotlib.axes._subplots.AxesSubplot at 0x2b8e795b448>"
      ]
     },
     "execution_count": 348,
     "metadata": {},
     "output_type": "execute_result"
    },
    {
     "data": {
      "image/png": "[encoded data removed]",
      "text/plain": [
       "<Figure size 432x288 with 1 Axes>"
      ]
     },
     "metadata": {
      "needs_background": "light"
     },
     "output_type": "display_data"
    }
   ],
   "source": [
    "sns.boxplot(y=yeardf['salary'], x=yeardf['teamID'])"
   ]
  },
  {
   "cell_type": "markdown",
   "metadata": {},
   "source": [
    "(c) Read the offical documentation (https://seaborn.pydata.org/) to understand how lmplot, catplot, relplot, and jointplot works."
   ]
  },
  {
   "cell_type": "markdown",
   "metadata": {},
   "source": [
    "### Jupyter Notebook"
   ]
  },
  {
   "cell_type": "markdown",
   "metadata": {},
   "source": [
    "#### Jupyter Notebook Extensions"
   ]
  },
  {
   "cell_type": "markdown",
   "metadata": {},
   "source": [
    "Extensions such as the code formatter, table of content is to make your development more efficient. To explore it, please refer to https://github.com/ipython-contrib/jupyter_contrib_nbextensions."
   ]
  },
  {
   "cell_type": "markdown",
   "metadata": {},
   "source": [
    "#### Jupyter Visual Debugger"
   ]
  },
  {
   "cell_type": "markdown",
   "metadata": {},
   "source": [
    "The Pixie Debugger is a visual debugger for debugging on Jupyter Notebook. To explore it, please refer to https://medium.com/codait/the-visual-python-debugger-for-jupyter-notebooks-youve-always-wanted-761713babc62."
   ]
  },
  {
   "cell_type": "markdown",
   "metadata": {},
   "source": [
    "### Git and GitHub"
   ]
  },
  {
   "cell_type": "markdown",
   "metadata": {},
   "source": [
    "1. In the directory that where this jupyter notebook file locates in, init a Git repository.\n",
    "2. Checkout a new branch called dev and commit the current notebook within this branch.\n",
    "3. Merge the dev branch to the master branch (the default branch).\n",
    "4. Create a temporary repository (just for practicing and you can delete it later) in GitHub. \n",
    "5. Push new changes in the master branch to the remote repository created in step 4.\n",
    "6. Checkout the dev branch again and do some changes to your notebook, and then repeat step 3 and step 5."
   ]
  },
  {
   "cell_type": "code",
   "execution_count": null,
   "metadata": {},
   "outputs": [],
   "source": []
  },
  {
   "cell_type": "code",
   "execution_count": null,
   "metadata": {},
   "outputs": [],
   "source": []
  },
  {
   "cell_type": "code",
   "execution_count": null,
   "metadata": {},
   "outputs": [],
   "source": []
  },
  {
   "cell_type": "markdown",
   "metadata": {},
   "source": [
    "These changes are being made in the dev branch. I hope this commit stays put. "
   ]
  },
  {
   "cell_type": "code",
   "execution_count": null,
   "metadata": {},
   "outputs": [],
   "source": []
  },
  {
   "cell_type": "code",
   "execution_count": null,
   "metadata": {},
   "outputs": [],
   "source": []
  },
  {
   "cell_type": "code",
   "execution_count": null,
   "metadata": {},
   "outputs": [],
   "source": []
  }
 ],
 "metadata": {
  "kernelspec": {
   "display_name": "Python 3",
   "language": "python",
   "name": "python3"
  },
  "language_info": {
   "codemirror_mode": {
    "name": "ipython",
    "version": 3
   },
   "file_extension": ".py",
   "mimetype": "text/x-python",
   "name": "python",
   "nbconvert_exporter": "python",
   "pygments_lexer": "ipython3",
   "version": "3.7.6"
  },
  "toc": {
   "base_numbering": 1,
   "nav_menu": {},
   "number_sections": true,
   "sideBar": true,
   "skip_h1_title": true,
   "title_cell": "Table of Contents",
   "title_sidebar": "Contents",
   "toc_cell": false,
   "toc_position": {
    "height": "calc(100% - 180px)",
    "left": "10px",
    "top": "150px",
    "width": "294.435px"
   },
   "toc_section_display": true,
   "toc_window_display": true
  }
 },
 "nbformat": 4,
 "nbformat_minor": 2
}
